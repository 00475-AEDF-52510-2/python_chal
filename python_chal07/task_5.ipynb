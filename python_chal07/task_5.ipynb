{
 "cells": [
  {
   "cell_type": "markdown",
   "metadata": {},
   "source": [
    "datetime 모듈을 사용하여 현재 날짜와 시간을 출력하는 프로그램을 작성하세요. \n",
    "\n",
    "또한, 사용자로부터 태어난 년도를 입력받아 현재 나이를 계산하여 출력하세요."
   ]
  },
  {
   "cell_type": "code",
   "execution_count": 3,
   "metadata": {},
   "outputs": [
    {
     "name": "stdout",
     "output_type": "stream",
     "text": [
      "21\n"
     ]
    }
   ],
   "source": [
    "from datetime import datetime\n",
    "\n",
    "birth = int(input(\"태어난 연도를 입력하세요 (ex: 2004): \"))\n",
    "realtime = datetime.now().year\n",
    "age = realtime - birth\n",
    "print(age)"
   ]
  }
 ],
 "metadata": {
  "kernelspec": {
   "display_name": "Python 3",
   "language": "python",
   "name": "python3"
  },
  "language_info": {
   "codemirror_mode": {
    "name": "ipython",
    "version": 3
   },
   "file_extension": ".py",
   "mimetype": "text/x-python",
   "name": "python",
   "nbconvert_exporter": "python",
   "pygments_lexer": "ipython3",
   "version": "3.13.3"
  }
 },
 "nbformat": 4,
 "nbformat_minor": 2
}
