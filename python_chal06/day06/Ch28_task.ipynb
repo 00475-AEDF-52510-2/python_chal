{
 "cells": [
  {
   "cell_type": "markdown",
   "metadata": {},
   "source": [
    "사용자로부터 3개의 숫자를 입력받아, 이를 튜플로 만든 후 최소값과 최대값을 출력하는 함수 min_max를 작성하세요."
   ]
  },
  {
   "cell_type": "code",
   "execution_count": 5,
   "metadata": {},
   "outputs": [
    {
     "name": "stdout",
     "output_type": "stream",
     "text": [
      "Tuple: (135, 246, 457536345)\n",
      "min: 135\n",
      "max: 457536345\n"
     ]
    }
   ],
   "source": [
    "def min_max():\n",
    "    try:\n",
    "        a = int(input(\"첫 번째 숫자: \"))\n",
    "        b = int(input(\"두 번째 숫자: \"))\n",
    "        c = int(input(\"세 번째 숫자: \"))\n",
    "        \n",
    "        nums = (a, b, c)\n",
    "\n",
    "        print(f\"Tuple: {nums}\")\n",
    "        print(f\"min: {min(nums)}\")\n",
    "        print(f\"max: {max(nums)}\")\n",
    "\n",
    "    except (ValueError, TypeError):\n",
    "        print(\"입력 오류\")\n",
    "\n",
    "min_max()"
   ]
  }
 ],
 "metadata": {
  "kernelspec": {
   "display_name": "Python 3",
   "language": "python",
   "name": "python3"
  },
  "language_info": {
   "codemirror_mode": {
    "name": "ipython",
    "version": 3
   },
   "file_extension": ".py",
   "mimetype": "text/x-python",
   "name": "python",
   "nbconvert_exporter": "python",
   "pygments_lexer": "ipython3",
   "version": "3.13.3"
  }
 },
 "nbformat": 4,
 "nbformat_minor": 2
}
